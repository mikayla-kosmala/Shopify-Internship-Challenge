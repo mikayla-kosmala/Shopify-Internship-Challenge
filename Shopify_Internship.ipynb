{
  "nbformat": 4,
  "nbformat_minor": 0,
  "metadata": {
    "colab": {
      "name": "Shopify Internship",
      "provenance": [],
      "collapsed_sections": []
    },
    "kernelspec": {
      "name": "python3",
      "display_name": "Python 3"
    },
    "language_info": {
      "name": "python"
    }
  },
  "cells": [
    {
      "cell_type": "markdown",
      "source": [
        "## Question 1: Given some sample data, write a program to answer the following: \n",
        "\n",
        "[click here to access the required data set](https://docs.google.com/spreadsheets/d/1c-1RL-rF03WAWJDIKhrwEOXbAAUMyyOPI-NME8UDVOQ/edit?usp=sharing)\n",
        "\n",
        "On Shopify, we have exactly 100 sneaker shops, and each of these shops sells only one model of shoe. We want to do some analysis of the average order value (AOV). When we look at orders data over a 30 day window, we naively calculate an AOV of $3145.13. Given that we know these shops are selling sneakers, a relatively affordable item, something seems wrong with our analysis. "
      ],
      "metadata": {
        "id": "Y9CdOI9tTua0"
      }
    },
    {
      "cell_type": "markdown",
      "source": [
        "### Think about what could be going wrong with our calculation. Think about a better way to evaluate this data. \n",
        "\n",
        "I think something that could be going wrong is that the AOV isn't taking into account how many total sneakers sold."
      ],
      "metadata": {
        "id": "xamBArudT08E"
      }
    },
    {
      "cell_type": "code",
      "execution_count": null,
      "metadata": {
        "colab": {
          "base_uri": "https://localhost:8080/",
          "height": 206
        },
        "id": "TxpLFrOoTTzD",
        "outputId": "7bc0d594-1e20-4445-8f44-d3b96b8d1d9c"
      },
      "outputs": [
        {
          "output_type": "execute_result",
          "data": {
            "text/plain": [
              "   order_id  shop_id  user_id  order_amount  total_items payment_method  \\\n",
              "0         1       53      746           224            2           cash   \n",
              "1         2       92      925            90            1           cash   \n",
              "2         3       44      861           144            1           cash   \n",
              "3         4       18      935           156            1    credit_card   \n",
              "4         5       18      883           156            1    credit_card   \n",
              "\n",
              "            created_at  \n",
              "0  2017-03-13 12:36:56  \n",
              "1  2017-03-03 17:38:52  \n",
              "2   2017-03-14 4:23:56  \n",
              "3  2017-03-26 12:43:37  \n",
              "4   2017-03-01 4:35:11  "
            ],
            "text/html": [
              "\n",
              "  <div id=\"df-567c84ce-301c-4c28-abdc-1b8a6e4cdbd3\">\n",
              "    <div class=\"colab-df-container\">\n",
              "      <div>\n",
              "<style scoped>\n",
              "    .dataframe tbody tr th:only-of-type {\n",
              "        vertical-align: middle;\n",
              "    }\n",
              "\n",
              "    .dataframe tbody tr th {\n",
              "        vertical-align: top;\n",
              "    }\n",
              "\n",
              "    .dataframe thead th {\n",
              "        text-align: right;\n",
              "    }\n",
              "</style>\n",
              "<table border=\"1\" class=\"dataframe\">\n",
              "  <thead>\n",
              "    <tr style=\"text-align: right;\">\n",
              "      <th></th>\n",
              "      <th>order_id</th>\n",
              "      <th>shop_id</th>\n",
              "      <th>user_id</th>\n",
              "      <th>order_amount</th>\n",
              "      <th>total_items</th>\n",
              "      <th>payment_method</th>\n",
              "      <th>created_at</th>\n",
              "    </tr>\n",
              "  </thead>\n",
              "  <tbody>\n",
              "    <tr>\n",
              "      <th>0</th>\n",
              "      <td>1</td>\n",
              "      <td>53</td>\n",
              "      <td>746</td>\n",
              "      <td>224</td>\n",
              "      <td>2</td>\n",
              "      <td>cash</td>\n",
              "      <td>2017-03-13 12:36:56</td>\n",
              "    </tr>\n",
              "    <tr>\n",
              "      <th>1</th>\n",
              "      <td>2</td>\n",
              "      <td>92</td>\n",
              "      <td>925</td>\n",
              "      <td>90</td>\n",
              "      <td>1</td>\n",
              "      <td>cash</td>\n",
              "      <td>2017-03-03 17:38:52</td>\n",
              "    </tr>\n",
              "    <tr>\n",
              "      <th>2</th>\n",
              "      <td>3</td>\n",
              "      <td>44</td>\n",
              "      <td>861</td>\n",
              "      <td>144</td>\n",
              "      <td>1</td>\n",
              "      <td>cash</td>\n",
              "      <td>2017-03-14 4:23:56</td>\n",
              "    </tr>\n",
              "    <tr>\n",
              "      <th>3</th>\n",
              "      <td>4</td>\n",
              "      <td>18</td>\n",
              "      <td>935</td>\n",
              "      <td>156</td>\n",
              "      <td>1</td>\n",
              "      <td>credit_card</td>\n",
              "      <td>2017-03-26 12:43:37</td>\n",
              "    </tr>\n",
              "    <tr>\n",
              "      <th>4</th>\n",
              "      <td>5</td>\n",
              "      <td>18</td>\n",
              "      <td>883</td>\n",
              "      <td>156</td>\n",
              "      <td>1</td>\n",
              "      <td>credit_card</td>\n",
              "      <td>2017-03-01 4:35:11</td>\n",
              "    </tr>\n",
              "  </tbody>\n",
              "</table>\n",
              "</div>\n",
              "      <button class=\"colab-df-convert\" onclick=\"convertToInteractive('df-567c84ce-301c-4c28-abdc-1b8a6e4cdbd3')\"\n",
              "              title=\"Convert this dataframe to an interactive table.\"\n",
              "              style=\"display:none;\">\n",
              "        \n",
              "  <svg xmlns=\"http://www.w3.org/2000/svg\" height=\"24px\"viewBox=\"0 0 24 24\"\n",
              "       width=\"24px\">\n",
              "    <path d=\"M0 0h24v24H0V0z\" fill=\"none\"/>\n",
              "    <path d=\"M18.56 5.44l.94 2.06.94-2.06 2.06-.94-2.06-.94-.94-2.06-.94 2.06-2.06.94zm-11 1L8.5 8.5l.94-2.06 2.06-.94-2.06-.94L8.5 2.5l-.94 2.06-2.06.94zm10 10l.94 2.06.94-2.06 2.06-.94-2.06-.94-.94-2.06-.94 2.06-2.06.94z\"/><path d=\"M17.41 7.96l-1.37-1.37c-.4-.4-.92-.59-1.43-.59-.52 0-1.04.2-1.43.59L10.3 9.45l-7.72 7.72c-.78.78-.78 2.05 0 2.83L4 21.41c.39.39.9.59 1.41.59.51 0 1.02-.2 1.41-.59l7.78-7.78 2.81-2.81c.8-.78.8-2.07 0-2.86zM5.41 20L4 18.59l7.72-7.72 1.47 1.35L5.41 20z\"/>\n",
              "  </svg>\n",
              "      </button>\n",
              "      \n",
              "  <style>\n",
              "    .colab-df-container {\n",
              "      display:flex;\n",
              "      flex-wrap:wrap;\n",
              "      gap: 12px;\n",
              "    }\n",
              "\n",
              "    .colab-df-convert {\n",
              "      background-color: #E8F0FE;\n",
              "      border: none;\n",
              "      border-radius: 50%;\n",
              "      cursor: pointer;\n",
              "      display: none;\n",
              "      fill: #1967D2;\n",
              "      height: 32px;\n",
              "      padding: 0 0 0 0;\n",
              "      width: 32px;\n",
              "    }\n",
              "\n",
              "    .colab-df-convert:hover {\n",
              "      background-color: #E2EBFA;\n",
              "      box-shadow: 0px 1px 2px rgba(60, 64, 67, 0.3), 0px 1px 3px 1px rgba(60, 64, 67, 0.15);\n",
              "      fill: #174EA6;\n",
              "    }\n",
              "\n",
              "    [theme=dark] .colab-df-convert {\n",
              "      background-color: #3B4455;\n",
              "      fill: #D2E3FC;\n",
              "    }\n",
              "\n",
              "    [theme=dark] .colab-df-convert:hover {\n",
              "      background-color: #434B5C;\n",
              "      box-shadow: 0px 1px 3px 1px rgba(0, 0, 0, 0.15);\n",
              "      filter: drop-shadow(0px 1px 2px rgba(0, 0, 0, 0.3));\n",
              "      fill: #FFFFFF;\n",
              "    }\n",
              "  </style>\n",
              "\n",
              "      <script>\n",
              "        const buttonEl =\n",
              "          document.querySelector('#df-567c84ce-301c-4c28-abdc-1b8a6e4cdbd3 button.colab-df-convert');\n",
              "        buttonEl.style.display =\n",
              "          google.colab.kernel.accessAllowed ? 'block' : 'none';\n",
              "\n",
              "        async function convertToInteractive(key) {\n",
              "          const element = document.querySelector('#df-567c84ce-301c-4c28-abdc-1b8a6e4cdbd3');\n",
              "          const dataTable =\n",
              "            await google.colab.kernel.invokeFunction('convertToInteractive',\n",
              "                                                     [key], {});\n",
              "          if (!dataTable) return;\n",
              "\n",
              "          const docLinkHtml = 'Like what you see? Visit the ' +\n",
              "            '<a target=\"_blank\" href=https://colab.research.google.com/notebooks/data_table.ipynb>data table notebook</a>'\n",
              "            + ' to learn more about interactive tables.';\n",
              "          element.innerHTML = '';\n",
              "          dataTable['output_type'] = 'display_data';\n",
              "          await google.colab.output.renderOutput(dataTable, element);\n",
              "          const docLink = document.createElement('div');\n",
              "          docLink.innerHTML = docLinkHtml;\n",
              "          element.appendChild(docLink);\n",
              "        }\n",
              "      </script>\n",
              "    </div>\n",
              "  </div>\n",
              "  "
            ]
          },
          "metadata": {},
          "execution_count": 2
        }
      ],
      "source": [
        "import pandas as pd\n",
        "sheet_id = '1c-1RL-rF03WAWJDIKhrwEOXbAAUMyyOPI-NME8UDVOQ'\n",
        "df = pd.read_csv(f'https://docs.google.com/spreadsheets/d/{sheet_id}/export?format=csv')\n",
        "df.head()"
      ]
    },
    {
      "cell_type": "code",
      "source": [
        "df.describe()['order_amount']['mean']"
      ],
      "metadata": {
        "colab": {
          "base_uri": "https://localhost:8080/"
        },
        "id": "VtQEPqDJWV3-",
        "outputId": "86adfd31-f90f-4466-abb9-756f3d6756e7"
      },
      "execution_count": null,
      "outputs": [
        {
          "output_type": "execute_result",
          "data": {
            "text/plain": [
              "3145.128"
            ]
          },
          "metadata": {},
          "execution_count": 3
        }
      ]
    },
    {
      "cell_type": "markdown",
      "source": [
        "Which is exactly what it is doing. You can see here that the mean of the order_amount is $3,145.13\n",
        "\n",
        "### What metric would you report for this dataset?\n",
        "\n",
        "What metric would I report for this dataset? That isn't very specific question.\n",
        "\n",
        " You could report on:\n",
        "*   What the credit card usage is for the month or for each shop\n",
        "*   How many shoes are sold on average by each shop\n",
        "*   AOV\n",
        "\n",
        "### What is its value?\n",
        "\n",
        "\n",
        "\n"
      ],
      "metadata": {
        "id": "pMlsU4vUWmtu"
      }
    },
    {
      "cell_type": "code",
      "source": [
        "credit_card_usage = df['payment_method'].value_counts(normalize=True)['credit_card']*100\n",
        "print(f'This is the credit card usage for the 30 day period (overall): {credit_card_usage:.2f}%')"
      ],
      "metadata": {
        "colab": {
          "base_uri": "https://localhost:8080/"
        },
        "id": "pVmjR9kjWYdV",
        "outputId": "98b68174-ab72-4e43-f8df-a37464de9a04"
      },
      "execution_count": null,
      "outputs": [
        {
          "output_type": "stream",
          "name": "stdout",
          "text": [
            "This is the credit card usage for the 30 day period (overall): 34.70%\n"
          ]
        }
      ]
    },
    {
      "cell_type": "code",
      "source": [
        "import numpy as np\n",
        "avg_number_of_sales = df.groupby(['shop_id']).agg(np.mean)['total_items'].mean()\n",
        "print(f'This is the average number of items sold per shop for the 30 day period: {avg_number_of_sales:.1f} shoes')"
      ],
      "metadata": {
        "colab": {
          "base_uri": "https://localhost:8080/"
        },
        "id": "TT14kHGnYYfT",
        "outputId": "44c06fb0-2040-4fd3-88ca-0f216cab2015"
      },
      "execution_count": null,
      "outputs": [
        {
          "output_type": "stream",
          "name": "stdout",
          "text": [
            "This is the average number of items sold per shop for the 30 day period: 8.7 shoes\n"
          ]
        }
      ]
    },
    {
      "cell_type": "code",
      "source": [
        "AOV = df['order_amount'].sum()/df['total_items'].sum()\n",
        "print(f'This is the average order value for the 30 day period: ${AOV:.2f}')"
      ],
      "metadata": {
        "colab": {
          "base_uri": "https://localhost:8080/"
        },
        "id": "eTbIGAXzrgAI",
        "outputId": "3a60a65d-5ca5-4dbb-f9cc-7f835eddd4d7"
      },
      "execution_count": null,
      "outputs": [
        {
          "output_type": "stream",
          "name": "stdout",
          "text": [
            "This is the average order value for the 30 day period: $357.92\n"
          ]
        }
      ]
    },
    {
      "cell_type": "markdown",
      "source": [
        "## Question 2: For this question you’ll need to use SQL. \n",
        "\n",
        "[Follow this link](https://www.w3schools.com/SQL/TRYSQL.ASP?FILENAME=TRYSQL_SELECT_ALL) to access the data set required for the challenge. Please use queries to answer the following questions. Paste your queries along with your final numerical answers below."
      ],
      "metadata": {
        "id": "62i6jNNqsPYC"
      }
    },
    {
      "cell_type": "markdown",
      "source": [
        "### How many orders were shipped by Speedy Express in total?"
      ],
      "metadata": {
        "id": "bX65_j-csuwf"
      }
    },
    {
      "cell_type": "code",
      "source": [
        "sql_query1 = \"\"\"SELECT Count(OrderID) FROM Orders WHERE ShipperID=1\"\"\"\n",
        "answer_to_sql_query1 = 54"
      ],
      "metadata": {
        "id": "1MNqj-y_s76S"
      },
      "execution_count": null,
      "outputs": []
    },
    {
      "cell_type": "markdown",
      "source": [
        "### What is the last name of the employee with the most orders?\n"
      ],
      "metadata": {
        "id": "196I5gXasv2B"
      }
    },
    {
      "cell_type": "code",
      "source": [
        "sql_query2 = \"\"\"SELECT EMPLOYEES.LastName\n",
        "                FROM EMPLOYEES \n",
        "                JOIN ORDERS \n",
        "                ON Employees.EmployeeID= ORDERS.EmployeeID \n",
        "                GROUP BY EMPLOYEES.LastName \n",
        "                ORDER BY COUNT(ORDERS.OrderID) DESC \n",
        "                LIMIT 1\"\"\"\n",
        "answer_to_sql_query2 = 'Peacock'"
      ],
      "metadata": {
        "id": "Bi0TCbAoyYjp"
      },
      "execution_count": null,
      "outputs": []
    },
    {
      "cell_type": "markdown",
      "source": [
        "### What product was ordered the most by customers in Germany?\n",
        "\n",
        "Are we talking about how many people orders contained the products or which product had the most units sold?\n",
        "\n",
        "![image.png](data:image/png;base64,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)"
      ],
      "metadata": {
        "id": "3WXBW09Ws2li"
      }
    },
    {
      "cell_type": "markdown",
      "source": [
        "The most common product ordered by customers in Germany"
      ],
      "metadata": {
        "id": "v4v8F4hS7DM8"
      }
    },
    {
      "cell_type": "code",
      "source": [
        "sql_query3.1 = \"\"\"SELECT Products.ProductName FROM [Orders] \n",
        "JOIN Customers ON Orders.CustomerID=Customers.CustomerID \n",
        "JOIN OrderDetails ON Orders.OrderID=OrderDetails.OrderID\n",
        "JOIN Products ON OrderDetails.ProductID=Products.ProductID\n",
        "WHERE Customers.Country='Germany'\n",
        "GROUP BY Products.ProductName\n",
        "ORDER BY COUNT(Orders.OrderID) DESC\n",
        "LIMIT 1;\n",
        "             \"\"\"\n",
        "answer_to_sql_query3.1 = 'Gorgonzola Telino'"
      ],
      "metadata": {
        "id": "uY-oniUHysQx"
      },
      "execution_count": null,
      "outputs": []
    },
    {
      "cell_type": "markdown",
      "source": [
        "The most units of a product ordered by customers in Germany"
      ],
      "metadata": {
        "id": "03dlf7eJ7IqQ"
      }
    },
    {
      "cell_type": "code",
      "source": [
        "sql_query3.2 = \"\"\"SELECT Products.ProductName FROM [Orders] \n",
        "JOIN Customers ON Orders.CustomerID=Customers.CustomerID \n",
        "JOIN OrderDetails ON Orders.OrderID=OrderDetails.OrderID\n",
        "JOIN Products ON OrderDetails.ProductID=Products.ProductID\n",
        "WHERE Customers.Country='Germany'\n",
        "GROUP BY Products.ProductName\n",
        "ORDER BY SUM(OrderDetails.Quantity) DESC\n",
        "LIMIT 1;\n",
        "             \"\"\"\n",
        "answer_to_sql_query3.2 = 'Boston Crab Meat'"
      ],
      "metadata": {
        "id": "KYUkZ_QQ7ON6"
      },
      "execution_count": null,
      "outputs": []
    }
  ]
}